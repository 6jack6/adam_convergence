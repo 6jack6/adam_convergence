{
  "nbformat": 4,
  "nbformat_minor": 0,
  "metadata": {
    "colab": {
      "provenance": []
    },
    "kernelspec": {
      "name": "python3",
      "display_name": "Python 3"
    },
    "language_info": {
      "name": "python"
    }
  },
  "cells": [
    {
      "cell_type": "code",
      "execution_count": 1,
      "metadata": {
        "id": "d4XzJycMm9m3"
      },
      "outputs": [],
      "source": [
        "import matplotlib.pyplot as plt\n",
        "import numpy as np"
      ]
    },
    {
      "cell_type": "markdown",
      "source": [
        "__AMSGrad__"
      ],
      "metadata": {
        "id": "Zx8PYGM62_FH"
      }
    },
    {
      "cell_type": "code",
      "source": [
        "def AMSGrad(x0, nablaf, projection=lambda x, V : x, alpha=lambda x : 1e-3, beta1=lambda x : 0.9, beta2=0.999, eps=1e-8, T=int(1e6)):\n",
        "    m, v, v1 = 0., 0., 0.\n",
        "    x = [x0]\n",
        "    t = 0\n",
        "    while t < T:\n",
        "        t += 1\n",
        "        g = nablaf(x[t - 1], t)\n",
        "        m = beta1(t) * m + (1 - beta1(t)) * g\n",
        "        v = beta2 * v + (1 - beta2) * np.square(g)\n",
        "        v1 = np.vstack([v, v1]).max(axis=0)\n",
        "        V = np.diag(v1)\n",
        "        x.append(x[t - 1] - alpha(t) * m / np.sqrt(v1))\n",
        "        x[t] = projection(x[t], V)\n",
        "\n",
        "    return x"
      ],
      "metadata": {
        "id": "qkm63vyjnE1R"
      },
      "execution_count": 85,
      "outputs": []
    },
    {
      "cell_type": "markdown",
      "source": [
        "__ADAM__"
      ],
      "metadata": {
        "id": "eHTpXF9iKVa4"
      }
    },
    {
      "cell_type": "code",
      "source": [
        "def ADAM(x0, nablaf, projection=lambda x : x, alpha=1e-3, beta1=0.9, beta2=0.999, eps=1e-8, T=int(1e6)):\n",
        "    m, m1, v, v1 = 0., 0., 0., 0.\n",
        "    x = [x0]\n",
        "    t = 0\n",
        "    while t < T:\n",
        "        t += 1\n",
        "        g = nablaf(x[t - 1], t)\n",
        "        m = beta1 * m + (1 - beta1) * g\n",
        "        v = beta2 * v + (1 - beta2) * g * g\n",
        "        m1 = m / (1 - (beta1 ** t))\n",
        "        v1 = v / (1 - (beta2 ** t))\n",
        "        x.append(x[t - 1] - alpha * m1 / (np.sqrt(v1) + 1e-8))\n",
        "        x[t] = projection(x[t])\n",
        "\n",
        "    return x"
      ],
      "metadata": {
        "id": "PttcbUE2JEPD"
      },
      "execution_count": 86,
      "outputs": []
    },
    {
      "cell_type": "markdown",
      "source": [
        "__Эксперименты__"
      ],
      "metadata": {
        "id": "KKZYEM5NKKbz"
      }
    },
    {
      "cell_type": "code",
      "source": [
        "C = 3"
      ],
      "metadata": {
        "id": "5OWjrzfA3qeQ"
      },
      "execution_count": 26,
      "outputs": []
    },
    {
      "cell_type": "code",
      "source": [
        "def f(x, t):\n",
        "    if t % 3 == 1:\n",
        "        return C * x\n",
        "    return -1 * x"
      ],
      "metadata": {
        "id": "hoJyav5u-ZnW"
      },
      "execution_count": 38,
      "outputs": []
    },
    {
      "cell_type": "code",
      "source": [
        "def nablaf(x, t):\n",
        "    if t % 3 == 1:\n",
        "        return C\n",
        "    return -1"
      ],
      "metadata": {
        "id": "LgpCxPuqKc-C"
      },
      "execution_count": 87,
      "outputs": []
    },
    {
      "cell_type": "code",
      "source": [
        "def projection(x, V):\n",
        "    if -1 <= x and x <= 1:\n",
        "        return x\n",
        "    if x > 0:\n",
        "        return 1\n",
        "    return -1"
      ],
      "metadata": {
        "id": "MMkWN9-pLPXP"
      },
      "execution_count": 88,
      "outputs": []
    },
    {
      "cell_type": "code",
      "source": [
        "def min_f_sum(t):\n",
        "    if t % 3 == 1:\n",
        "        return ((C - 2) * (t // 3) + (C - 1)) * -1\n",
        "    elif t % 3 == 0:\n",
        "        return ((C - 2) * (t // 3) - 1) * -1\n",
        "    return ((C - 2) * (t // 3)) * -1"
      ],
      "metadata": {
        "id": "5QQ8Mfg6_IYG"
      },
      "execution_count": 53,
      "outputs": []
    },
    {
      "cell_type": "code",
      "source": [
        "def regret(x):\n",
        "    R = []\n",
        "    for i in range(len(x)):\n",
        "        R.append(f(x[i], i))\n",
        "        if x != 0:\n",
        "            R[i] += R[i - 1]\n",
        "\n",
        "    for i in range(len(x)):\n",
        "        R[i] -= min_f_sum(i)\n",
        "        if i != 0:\n",
        "            R[i] /= i\n",
        "\n",
        "    return R"
      ],
      "metadata": {
        "id": "CqkOd8Vh0RVK"
      },
      "execution_count": 47,
      "outputs": []
    },
    {
      "cell_type": "code",
      "source": [
        "x = AMSGrad(0, nablaf, projection, T = 1e5, beta1=lambda x : 0, beta2=1e-1)"
      ],
      "metadata": {
        "id": "NZ070SQALqk0"
      },
      "execution_count": 89,
      "outputs": []
    },
    {
      "cell_type": "code",
      "source": [
        "R = regret(x)"
      ],
      "metadata": {
        "id": "hLh2LYDqy9Ik"
      },
      "execution_count": 90,
      "outputs": []
    },
    {
      "cell_type": "code",
      "source": [
        "t = np.arange(len(x))"
      ],
      "metadata": {
        "id": "MB5LEHv4MgTA"
      },
      "execution_count": 91,
      "outputs": []
    },
    {
      "cell_type": "code",
      "source": [
        "def proj(x):\n",
        "    return projection(x, 0)"
      ],
      "metadata": {
        "id": "pFwsvSwNbwse"
      },
      "execution_count": 92,
      "outputs": []
    },
    {
      "cell_type": "code",
      "source": [
        "adam_x = ADAM(0, nablaf, proj, T=1e5, beta1=0, beta2=1e-1)"
      ],
      "metadata": {
        "id": "7J8tHjRWbYcc"
      },
      "execution_count": 93,
      "outputs": []
    },
    {
      "cell_type": "code",
      "source": [
        "adam_t = np.arange(len(adam_x))"
      ],
      "metadata": {
        "id": "XkYeN0tPb3NB"
      },
      "execution_count": 94,
      "outputs": []
    },
    {
      "cell_type": "code",
      "source": [
        "adam_R = regret(adam_x)"
      ],
      "metadata": {
        "id": "bxjjbCavCqPh"
      },
      "execution_count": 95,
      "outputs": []
    },
    {
      "cell_type": "code",
      "source": [
        "plt.plot(adam_t, adam_x, label=\"ADAM\")\n",
        "plt.plot(t, x, label=\"AMSGrad\")\n",
        "plt.legend()\n",
        "plt.grid()\n",
        "plt.show()"
      ],
      "metadata": {
        "colab": {
          "base_uri": "https://localhost:8080/",
          "height": 485
        },
        "id": "aA-RQwmiDwiC",
        "outputId": "5da015e9-af3a-45a2-f4bc-41c250a4c03d"
      },
      "execution_count": 96,
      "outputs": [
        {
          "output_type": "stream",
          "name": "stderr",
          "text": [
            "/usr/local/lib/python3.10/dist-packages/numpy/core/shape_base.py:65: VisibleDeprecationWarning: Creating an ndarray from ragged nested sequences (which is a list-or-tuple of lists-or-tuples-or ndarrays with different lengths or shapes) is deprecated. If you meant to do this, you must specify 'dtype=object' when creating the ndarray.\n",
            "  ary = asanyarray(ary)\n"
          ]
        },
        {
          "output_type": "display_data",
          "data": {
            "text/plain": [
              "<Figure size 640x480 with 1 Axes>"
            ],
            "image/png": "[encoded data removed]"
          },
          "metadata": {}
        }
      ]
    },
    {
      "cell_type": "code",
      "source": [
        "plt.plot(adam_t[100:], adam_R[100:], label=\"ADAM\")\n",
        "plt.plot(t[100:], R[100:], label=\"AMSGrad\")\n",
        "plt.legend()\n",
        "plt.grid()\n",
        "plt.show()"
      ],
      "metadata": {
        "colab": {
          "base_uri": "https://localhost:8080/",
          "height": 430
        },
        "id": "C9uOcrnmb--B",
        "outputId": "071713a2-fcbf-497f-b378-e92ef9adcf67"
      },
      "execution_count": 97,
      "outputs": [
        {
          "output_type": "display_data",
          "data": {
            "text/plain": [
              "<Figure size 640x480 with 1 Axes>"
            ],
            "image/png": "[encoded data removed]"
          },
          "metadata": {}
        }
      ]
    },
    {
      "cell_type": "code",
      "source": [],
      "metadata": {
        "id": "nbPoTKIxLt1T"
      },
      "execution_count": null,
      "outputs": []
    }
  ]
}