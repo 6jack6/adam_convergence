{
  "nbformat": 4,
  "nbformat_minor": 0,
  "metadata": {
    "colab": {
      "provenance": []
    },
    "kernelspec": {
      "name": "python3",
      "display_name": "Python 3"
    },
    "language_info": {
      "name": "python"
    }
  },
  "cells": [
    {
      "cell_type": "code",
      "execution_count": null,
      "metadata": {
        "id": "d4XzJycMm9m3"
      },
      "outputs": [],
      "source": [
        "import matplotlib.pyplot as plt\n",
        "import numpy as np"
      ]
    },
    {
      "cell_type": "markdown",
      "source": [
        "__AMSGrad__"
      ],
      "metadata": {
        "id": "Zx8PYGM62_FH"
      }
    },
    {
      "cell_type": "markdown",
      "source": [
        "**Input**: $x_1 \\in \\mathcal{F}$, step size $\\{\\alpha_t\\}_{t=1}^T$, $\\{\\beta_{1t}\\}_{t=1}^T, \\beta_2$\n",
        "\n",
        "$m_0 = 0, v_0 = 0, \\hat{v_0} = 0$\n",
        "\n",
        "**for** $t = 1$ to $T$ do\n",
        "\n",
        "$\\quad g_t = \\nabla f_t (x_t)$\n",
        "\n",
        "$\\quad m_t = \\beta_{1t} m_{t - 1} + (1 - \\beta_{1t}) g_t$\n",
        "\n",
        "$\\quad v_t = \\beta_2 v_{t - 1} + (1 - \\beta_2)g_t^2$\n",
        "\n",
        "$\\quad \\hat{v_t} = max(\\hat{v_{t - 1}}, v_t)$\n",
        "\n",
        "$\\quad \\hat{V_t} = diag(\\hat{v_t})$\n",
        "\n",
        "$\\quad x_{t + 1} = \\prod_{\\mathcal{F}, \\sqrt{\\hat{V_t}}}{(x_t - \\alpha_t m_t / \\sqrt{\\hat{v_t}})}$\n",
        "\n",
        "**end for**"
      ],
      "metadata": {
        "id": "vj8ZNZEVYzE8"
      }
    },
    {
      "cell_type": "code",
      "source": [
        "def AMSGrad(x0, nablaf, projection=lambda x, V : x, alpha=lambda x : 1e-3, beta1=lambda x : 0.9, beta2=0.999, eps=1e-8, T=int(1e6)):\n",
        "    m, v, v1 = 0., 0., 0.\n",
        "    x = [x0]\n",
        "    t = 0\n",
        "    while t < T:\n",
        "        t += 1\n",
        "        g = nablaf(x[t - 1], t)\n",
        "        m = beta1(t) * m + (1 - beta1(t)) * g\n",
        "        v = beta2 * v + (1 - beta2) * np.square(g)\n",
        "        v1 = np.vstack([v, v1]).max(axis=0)\n",
        "        V = np.diag(v1)\n",
        "        x.append(x[t - 1] - alpha(t) * m / np.sqrt(v1))\n",
        "        x[t] = projection(x[t], V)\n",
        "\n",
        "    return x"
      ],
      "metadata": {
        "id": "qkm63vyjnE1R"
      },
      "execution_count": null,
      "outputs": []
    },
    {
      "cell_type": "markdown",
      "source": [
        "__ADAM__"
      ],
      "metadata": {
        "id": "eHTpXF9iKVa4"
      }
    },
    {
      "cell_type": "markdown",
      "source": [
        "**Input**: $x_1 \\in \\mathcal{F}$, step size $\\alpha, \\beta_1, \\beta_2, \\epsilon$\n",
        "\n",
        "$m_0 = 0, v_0 = 0$\n",
        "\n",
        "**for** $t = 1$ to $T$ do\n",
        "\n",
        "$\\quad g_t = \\nabla f_t (x_t)$\n",
        "\n",
        "$\\quad m_t = \\beta_{1t} m_{t - 1} + (1 - \\beta_{1t}) g_t$\n",
        "\n",
        "$\\quad v_t = \\beta_2 v_{t - 1} + (1 - \\beta_2)g_t^2$\n",
        "\n",
        "$\\quad \\hat{m_t} = m_t / (1 - \\beta_1^t)$\n",
        "\n",
        "$\\quad \\hat{v_t} = v_t / (1 - \\beta_2^t)$\n",
        "\n",
        "$\\quad x_{t + 1} = \\prod_{\\mathcal{F}, \\sqrt{\\hat{V_t}}}{(x_t - \\alpha_t m_t / \\sqrt{\\hat{v_t} + \\epsilon})}$\n",
        "\n",
        "**end for**"
      ],
      "metadata": {
        "id": "VnO-D1-nkIeC"
      }
    },
    {
      "cell_type": "code",
      "source": [
        "def ADAM(x0, nablaf, projection=lambda x : x, alpha=1e-3, beta1=0.9, beta2=0.999, eps=1e-8, T=int(1e6)):\n",
        "    m, m1, v, v1 = 0., 0., 0., 0.\n",
        "    x = [x0]\n",
        "    t = 0\n",
        "    while t < T:\n",
        "        t += 1\n",
        "        g = nablaf(x[t - 1], t)\n",
        "        m = beta1 * m + (1 - beta1) * g\n",
        "        v = beta2 * v + (1 - beta2) * g * g\n",
        "        m1 = m / (1 - (beta1 ** t))\n",
        "        v1 = v / (1 - (beta2 ** t))\n",
        "        x.append(x[t - 1] - alpha * m1 / (np.sqrt(v1) + 1e-8))\n",
        "        x[t] = projection(x[t])\n",
        "\n",
        "    return x"
      ],
      "metadata": {
        "id": "PttcbUE2JEPD"
      },
      "execution_count": null,
      "outputs": []
    },
    {
      "cell_type": "markdown",
      "source": [
        "__Эксперименты__"
      ],
      "metadata": {
        "id": "KKZYEM5NKKbz"
      }
    },
    {
      "cell_type": "markdown",
      "source": [
        "Проведем эксперименты на последовательности функций:\n",
        "\n",
        "$f_t(x) =\n",
        "  \\begin{cases}\n",
        "    Cx,       & \\quad t \\mod 3 = 1\\\\\n",
        "    -x,  & \\quad else\n",
        "  \\end{cases}$\n",
        "\n",
        "  $C > 2$"
      ],
      "metadata": {
        "id": "YNSE7DquTDBh"
      }
    },
    {
      "cell_type": "code",
      "source": [
        "C = 3"
      ],
      "metadata": {
        "id": "5OWjrzfA3qeQ"
      },
      "execution_count": null,
      "outputs": []
    },
    {
      "cell_type": "code",
      "source": [
        "def f(x, t):\n",
        "    if t % 3 == 1:\n",
        "        return C * x\n",
        "    return -1 * x"
      ],
      "metadata": {
        "id": "hoJyav5u-ZnW"
      },
      "execution_count": null,
      "outputs": []
    },
    {
      "cell_type": "code",
      "source": [
        "def nablaf(x, t):\n",
        "    if t % 3 == 1:\n",
        "        return C\n",
        "    return -1"
      ],
      "metadata": {
        "id": "LgpCxPuqKc-C"
      },
      "execution_count": null,
      "outputs": []
    },
    {
      "cell_type": "markdown",
      "source": [
        "Проекция на отрезок $[-1, 1]$."
      ],
      "metadata": {
        "id": "t95bb-N5S7TP"
      }
    },
    {
      "cell_type": "code",
      "source": [
        "def projection(x, V):\n",
        "    if -1 <= x and x <= 1:\n",
        "        return x\n",
        "    if x > 0:\n",
        "        return 1\n",
        "    return -1"
      ],
      "metadata": {
        "id": "MMkWN9-pLPXP"
      },
      "execution_count": null,
      "outputs": []
    },
    {
      "cell_type": "code",
      "source": [
        "def min_f_sum(t):\n",
        "    if t % 3 == 1:\n",
        "        return ((C - 2) * (t // 3) + (C - 1)) * -1\n",
        "    elif t % 3 == 0:\n",
        "        return ((C - 2) * (t // 3) - 1) * -1\n",
        "    return ((C - 2) * (t // 3)) * -1"
      ],
      "metadata": {
        "id": "5QQ8Mfg6_IYG"
      },
      "execution_count": null,
      "outputs": []
    },
    {
      "cell_type": "code",
      "source": [
        "def regret(x):\n",
        "    R = []\n",
        "    for i in range(len(x)):\n",
        "        R.append(f(x[i], i))\n",
        "        if x != 0:\n",
        "            R[i] += R[i - 1]\n",
        "\n",
        "    for i in range(len(x)):\n",
        "        R[i] -= min_f_sum(i)\n",
        "        if i != 0:\n",
        "            R[i] /= i\n",
        "\n",
        "    return R"
      ],
      "metadata": {
        "id": "CqkOd8Vh0RVK"
      },
      "execution_count": null,
      "outputs": []
    },
    {
      "cell_type": "code",
      "source": [
        "x = AMSGrad(0, nablaf, projection, T = 1e6, beta1=lambda x : 0, beta2=1e-1, alpha=lambda t: 1e-2 / np.sqrt(t))"
      ],
      "metadata": {
        "id": "NZ070SQALqk0"
      },
      "execution_count": 123,
      "outputs": []
    },
    {
      "cell_type": "code",
      "source": [
        "R = regret(x)"
      ],
      "metadata": {
        "id": "hLh2LYDqy9Ik"
      },
      "execution_count": 124,
      "outputs": []
    },
    {
      "cell_type": "code",
      "source": [
        "t = np.arange(len(x))"
      ],
      "metadata": {
        "id": "MB5LEHv4MgTA"
      },
      "execution_count": 125,
      "outputs": []
    },
    {
      "cell_type": "code",
      "source": [
        "def proj(x):\n",
        "    return projection(x, 0)"
      ],
      "metadata": {
        "id": "pFwsvSwNbwse"
      },
      "execution_count": 101,
      "outputs": []
    },
    {
      "cell_type": "code",
      "source": [
        "adam_x = ADAM(0, nablaf, proj, T=1e6, beta1=0, beta2=1e-1)"
      ],
      "metadata": {
        "id": "7J8tHjRWbYcc"
      },
      "execution_count": 118,
      "outputs": []
    },
    {
      "cell_type": "code",
      "source": [
        "adam_t = np.arange(len(adam_x))"
      ],
      "metadata": {
        "id": "XkYeN0tPb3NB"
      },
      "execution_count": 119,
      "outputs": []
    },
    {
      "cell_type": "code",
      "source": [
        "adam_R = regret(adam_x)"
      ],
      "metadata": {
        "id": "bxjjbCavCqPh"
      },
      "execution_count": 120,
      "outputs": []
    },
    {
      "cell_type": "code",
      "source": [
        "plt.plot(adam_t, adam_x, label=\"ADAM\")\n",
        "plt.plot(t, x, label=\"AMSGrad\")\n",
        "plt.legend()\n",
        "plt.grid()\n",
        "plt.show()"
      ],
      "metadata": {
        "colab": {
          "base_uri": "https://localhost:8080/",
          "height": 503
        },
        "id": "aA-RQwmiDwiC",
        "outputId": "ee4869e8-7b8d-4bed-a364-913a1b9c1c6a"
      },
      "execution_count": 126,
      "outputs": [
        {
          "output_type": "stream",
          "name": "stderr",
          "text": [
            "/usr/local/lib/python3.10/dist-packages/numpy/core/shape_base.py:65: VisibleDeprecationWarning: Creating an ndarray from ragged nested sequences (which is a list-or-tuple of lists-or-tuples-or ndarrays with different lengths or shapes) is deprecated. If you meant to do this, you must specify 'dtype=object' when creating the ndarray.\n",
            "  ary = asanyarray(ary)\n"
          ]
        },
        {
          "output_type": "display_data",
          "data": {
            "text/plain": [
              "<Figure size 640x480 with 1 Axes>"
            ],
            "image/png": "[encoded data removed]"
          },
          "metadata": {}
        }
      ]
    },
    {
      "cell_type": "code",
      "source": [
        "plt.plot(adam_t[100:], adam_R[100:], label=\"ADAM\")\n",
        "plt.plot(t[100:], R[100:], label=\"AMSGrad\")\n",
        "plt.legend()\n",
        "plt.grid()\n",
        "plt.show()"
      ],
      "metadata": {
        "colab": {
          "base_uri": "https://localhost:8080/",
          "height": 448
        },
        "id": "C9uOcrnmb--B",
        "outputId": "38388073-8d1e-4527-d5f6-f78a0d33b3ff"
      },
      "execution_count": 127,
      "outputs": [
        {
          "output_type": "display_data",
          "data": {
            "text/plain": [
              "<Figure size 640x480 with 1 Axes>"
            ],
            "image/png": "[encoded data removed]"
          },
          "metadata": {}
        }
      ]
    }
  ]
}